{
 "cells": [
  {
   "cell_type": "markdown",
   "metadata": {},
   "source": [
    "# **Elements of Artificial Intelligence and Data Science 24/25**\n",
    "## **Exercise Sheet 6: Supervised Learning and Performance Evaluation**"
   ]
  },
  {
   "cell_type": "markdown",
   "metadata": {},
   "source": [
    "In this notebook, you will learn to handle some supervised learning tasks using the `hcc.csv` dataset available on Moodle.\n",
    "Here, some template code has already been provided for you, and it will be your task to implement the additional functionality.\n",
    "\n",
    "- Sections that begin with **[Implementation]** indicate that the following block of code will require additional functionality which you must provide.\n",
    "\n",
    "- There might also be some suggested **[Questions]** to help you analyse and discuss the obtained results."
   ]
  },
  {
   "cell_type": "markdown",
   "metadata": {},
   "source": [
    "## **Exploring the Data**\n",
    "Start by loading the file and understanding characteristics of the data and the features.\n",
    "\n",
    "##### **[Questions]**\n",
    "- How many patterns/observations are there? How many features?\n",
    "- What are the types and possible values of the features? \n",
    "- What is the class of this problem?"
   ]
  },
  {
   "cell_type": "code",
   "execution_count": 147,
   "metadata": {},
   "outputs": [],
   "source": [
    "# At the end of the project, you can add here all necessary imports\n",
    "import pandas as pd"
   ]
  },
  {
   "cell_type": "code",
   "execution_count": 148,
   "metadata": {
    "collapsed": false
   },
   "outputs": [
    {
     "data": {
      "text/html": [
       "<div>\n",
       "<style scoped>\n",
       "    .dataframe tbody tr th:only-of-type {\n",
       "        vertical-align: middle;\n",
       "    }\n",
       "\n",
       "    .dataframe tbody tr th {\n",
       "        vertical-align: top;\n",
       "    }\n",
       "\n",
       "    .dataframe thead th {\n",
       "        text-align: right;\n",
       "    }\n",
       "</style>\n",
       "<table border=\"1\" class=\"dataframe\">\n",
       "  <thead>\n",
       "    <tr style=\"text-align: right;\">\n",
       "      <th></th>\n",
       "      <th>Gender</th>\n",
       "      <th>Alcohol</th>\n",
       "      <th>Age</th>\n",
       "      <th>Encefalopathy</th>\n",
       "      <th>Total_Bil</th>\n",
       "      <th>Location</th>\n",
       "      <th>CLASS</th>\n",
       "    </tr>\n",
       "  </thead>\n",
       "  <tbody>\n",
       "    <tr>\n",
       "      <th>0</th>\n",
       "      <td>M</td>\n",
       "      <td>Y</td>\n",
       "      <td>67</td>\n",
       "      <td>No</td>\n",
       "      <td>2.1</td>\n",
       "      <td>Seg I</td>\n",
       "      <td>LIVES</td>\n",
       "    </tr>\n",
       "    <tr>\n",
       "      <th>1</th>\n",
       "      <td>F</td>\n",
       "      <td>N</td>\n",
       "      <td>62</td>\n",
       "      <td>No</td>\n",
       "      <td>NaN</td>\n",
       "      <td>Seg I</td>\n",
       "      <td>LIVES</td>\n",
       "    </tr>\n",
       "    <tr>\n",
       "      <th>2</th>\n",
       "      <td>M</td>\n",
       "      <td>Y</td>\n",
       "      <td>78</td>\n",
       "      <td>No</td>\n",
       "      <td>0.4</td>\n",
       "      <td>Seg V</td>\n",
       "      <td>LIVES</td>\n",
       "    </tr>\n",
       "    <tr>\n",
       "      <th>3</th>\n",
       "      <td>M</td>\n",
       "      <td>Y</td>\n",
       "      <td>77</td>\n",
       "      <td>No</td>\n",
       "      <td>0.4</td>\n",
       "      <td>Seg II</td>\n",
       "      <td>DIES</td>\n",
       "    </tr>\n",
       "    <tr>\n",
       "      <th>4</th>\n",
       "      <td>M</td>\n",
       "      <td>Y</td>\n",
       "      <td>76</td>\n",
       "      <td>No</td>\n",
       "      <td>0.7</td>\n",
       "      <td>Seg I</td>\n",
       "      <td>LIVES</td>\n",
       "    </tr>\n",
       "    <tr>\n",
       "      <th>...</th>\n",
       "      <td>...</td>\n",
       "      <td>...</td>\n",
       "      <td>...</td>\n",
       "      <td>...</td>\n",
       "      <td>...</td>\n",
       "      <td>...</td>\n",
       "      <td>...</td>\n",
       "    </tr>\n",
       "    <tr>\n",
       "      <th>160</th>\n",
       "      <td>F</td>\n",
       "      <td>Y</td>\n",
       "      <td>40</td>\n",
       "      <td>No</td>\n",
       "      <td>0.5</td>\n",
       "      <td>Seg V</td>\n",
       "      <td>LIVES</td>\n",
       "    </tr>\n",
       "    <tr>\n",
       "      <th>161</th>\n",
       "      <td>F</td>\n",
       "      <td>N</td>\n",
       "      <td>68</td>\n",
       "      <td>No</td>\n",
       "      <td>3.6</td>\n",
       "      <td>Seg I</td>\n",
       "      <td>DIES</td>\n",
       "    </tr>\n",
       "    <tr>\n",
       "      <th>162</th>\n",
       "      <td>M</td>\n",
       "      <td>Y</td>\n",
       "      <td>65</td>\n",
       "      <td>No</td>\n",
       "      <td>0.6</td>\n",
       "      <td>Seg V</td>\n",
       "      <td>LIVES</td>\n",
       "    </tr>\n",
       "    <tr>\n",
       "      <th>163</th>\n",
       "      <td>M</td>\n",
       "      <td>Y</td>\n",
       "      <td>44</td>\n",
       "      <td>No</td>\n",
       "      <td>1.1</td>\n",
       "      <td>Seg V</td>\n",
       "      <td>DIES</td>\n",
       "    </tr>\n",
       "    <tr>\n",
       "      <th>164</th>\n",
       "      <td>M</td>\n",
       "      <td>Y</td>\n",
       "      <td>52</td>\n",
       "      <td>No</td>\n",
       "      <td>28.5</td>\n",
       "      <td>Seg V</td>\n",
       "      <td>DIES</td>\n",
       "    </tr>\n",
       "  </tbody>\n",
       "</table>\n",
       "<p>165 rows × 7 columns</p>\n",
       "</div>"
      ],
      "text/plain": [
       "    Gender Alcohol  Age Encefalopathy  Total_Bil Location  CLASS\n",
       "0        M       Y   67            No        2.1    Seg I  LIVES\n",
       "1        F       N   62            No        NaN    Seg I  LIVES\n",
       "2        M       Y   78            No        0.4    Seg V  LIVES\n",
       "3        M       Y   77            No        0.4   Seg II   DIES\n",
       "4        M       Y   76            No        0.7    Seg I  LIVES\n",
       "..     ...     ...  ...           ...        ...      ...    ...\n",
       "160      F       Y   40            No        0.5    Seg V  LIVES\n",
       "161      F       N   68            No        3.6    Seg I   DIES\n",
       "162      M       Y   65            No        0.6    Seg V  LIVES\n",
       "163      M       Y   44            No        1.1    Seg V   DIES\n",
       "164      M       Y   52            No       28.5    Seg V   DIES\n",
       "\n",
       "[165 rows x 7 columns]"
      ]
     },
     "execution_count": 148,
     "metadata": {},
     "output_type": "execute_result"
    }
   ],
   "source": [
    "# Read hcc data\n",
    "df = pd.read_csv(\"hcc.csv\")\n",
    "df"
   ]
  },
  {
   "cell_type": "markdown",
   "metadata": {},
   "source": [
    "##### **[Implementation] Data Exploration**\n",
    "Let's begin by investigating the dataset to determine how many patients we have information on, and learn about the mortality rate among these patients. In the code cell below, you will need to compute the following:\n",
    "- The total number of patients, `n_patients`.\n",
    "- The total number of features for each patient, `n_features`.\n",
    "- The number of those patients who lived, `n_lives`.\n",
    "- The number of those patients who died, `n_dies`.\n",
    "- The mortality rate of the class, `mortality_rate`, in percent (%)."
   ]
  },
  {
   "cell_type": "code",
   "execution_count": 149,
   "metadata": {
    "collapsed": false
   },
   "outputs": [
    {
     "name": "stdout",
     "output_type": "stream",
     "text": [
      "Total number of patients: 165\n",
      "Total number of features: 6\n",
      "Number of patients that survived: 102\n",
      "Number of patients that died: 63\n",
      "Mortality rate: 3818.18%\n"
     ]
    }
   ],
   "source": [
    "# TODO: Calculate number of patients\n",
    "n_patients = len(df)\n",
    "\n",
    "# TODO: Calculate number of features\n",
    "n_features = len(df.columns)-1\n",
    "\n",
    "# TODO: Calculate patients that survived\n",
    "n_lives = len(df[df[\"CLASS\"]==\"LIVES\"])\n",
    "\n",
    "# TODO: Calculate patients that died\n",
    "n_dies = len(df[df[\"CLASS\"]==\"DIES\"])\n",
    "\n",
    "# TODO: Calculate mortality rate\n",
    "mortality_rate = (n_dies/n_patients)*100\n",
    "\n",
    "# Print the results\n",
    "print(f\"Total number of patients: {n_patients}\")\n",
    "print(f\"Total number of features: {n_features}\")\n",
    "print(f\"Number of patients that survived: {n_lives}\")\n",
    "print(f\"Number of patients that died: {n_dies}\")\n",
    "print(f\"Mortality rate: {mortality_rate:.2%}\")"
   ]
  },
  {
   "cell_type": "markdown",
   "metadata": {},
   "source": [
    "##### **[Questions]**\n",
    "- How can you further investigate this dataset? Refer back to the **Lab05: Data Cleaning and Preprocessing** and try to use **Feature Assessment** and **Visualization** to find good discriminative features. Use histogramss, boxplots, heatmaps\n",
    "- You can also explore existing problems in this dataset. Does the dataset have missing values? Outliers? Correlated features? Imbalanced Classes? Other issues?\n",
    "\n",
    "    Falta de Valores: Algumas linhas de Total_Bil e Location estão vazias.\n",
    "\n",
    "    Outliers: Valores muito altos ou baixos, como Total_Bil com 40.5 ou 28.9, que são bem diferentes dos outros.\n",
    "\n",
    "    Classes desbalanceadas: Temos mais pacientes que sobreviveram do que morreram, o que pode dificultar as previsões.\n",
    "\n",
    "    Features correlacionadas: Talvez idade e encefalopatia tenham relação, e precisamos de ver.\n",
    "\n",
    "**Hint:** Install and explore tools such as [ydata-profiling](https://docs.profiling.ydata.ai/latest/) and [dataprep](https://docs.dataprep.ai/user_guide/user_guide.html) to explore this dataset in a more flexible way."
   ]
  },
  {
   "cell_type": "markdown",
   "metadata": {},
   "source": [
    "##### **[Implementation] Data Quality**\n",
    "This dataset has a few points with missing values in 2 features. Find out which and impute them. For simplicity, you can use [SimpleImputer](https://scikit-learn.org/stable/modules/generated/sklearn.impute.SimpleImputer.html#sklearn.impute.SimpleImputer). \n",
    "\n",
    "**Note:** Pay attention to the type of features you have to choose the most appropriate strategy (e.g. categorical features don't have mean values...)"
   ]
  },
  {
   "cell_type": "code",
   "execution_count": 150,
   "metadata": {},
   "outputs": [
    {
     "name": "stdout",
     "output_type": "stream",
     "text": [
      "Valores faltando por coluna:\n",
      "Gender           0\n",
      "Alcohol          0\n",
      "Age              0\n",
      "Encefalopathy    0\n",
      "Total_Bil        5\n",
      "Location         2\n",
      "CLASS            0\n",
      "dtype: int64\n",
      "\n",
      "Valores faltando por coluna depois do impute:\n",
      "Gender           0\n",
      "Alcohol          0\n",
      "Age              0\n",
      "Encefalopathy    0\n",
      "Total_Bil        0\n",
      "Location         0\n",
      "CLASS            0\n",
      "dtype: int64\n"
     ]
    }
   ],
   "source": [
    "# TODO: Import any additional functionality you may need here\n",
    "from sklearn.impute import SimpleImputer\n",
    "\n",
    "# TODO: Impute missing values with mean/mode using SimpleImputer\n",
    "\n",
    "print(\"Valores faltando por coluna:\")\n",
    "print(df.isna().sum())\n",
    "\n",
    "imputer_numeric = SimpleImputer(strategy=\"mean\")\n",
    "df[\"Total_Bil\"] = imputer_numeric.fit_transform(df[[\"Total_Bil\"]])\n",
    "\n",
    "imputer_categorical = SimpleImputer(strategy=\"most_frequent\")\n",
    "df[\"Location\"] = imputer_categorical.fit_transform(df[[\"Location\"]]).ravel()\n",
    "\n",
    "print(\"\\nValores faltando por coluna depois do impute:\")\n",
    "print(df.isna().sum())\n",
    "\n",
    "#Para Total_Bil, calculamos a média dos valores existentes e colocamos nos lugares vazios.\n",
    "#Para Location, escolhemos o valor mais comum (ex.: \"Seg I\") e colocamos nos lugares vazios."
   ]
  },
  {
   "cell_type": "markdown",
   "metadata": {},
   "source": [
    "## **Preparing the Data**\n",
    "It is often the case that the data you obtain contains non-numeric features. This can be a problem since some machine learning algorithms expect numeric data to perform computations with. "
   ]
  },
  {
   "cell_type": "markdown",
   "metadata": {},
   "source": [
    "### **[Implementation] Preprocess Feature Columns**\n",
    "\n",
    "As you can see, there are several non-numeric columns that need to be converted:\n",
    "\n",
    "- Some of them are simply `M`/`F` or `Y`/`N` (e.g. `Gender` or`Alcohol`). These can be reasonably converted into `1`/`0` (binary) values. We can use a simple `map` for this (check the cell below).\n",
    "\n",
    "- Other columns, like `Encefalopathy` and `Location`, have more than two values:\n",
    "    - Some might be _ordinal_, where there is an ordering between values. `Encefalopathy` can be one of these cases: `No` < `Grade I/II` < `Grade III/IV`. We can handle them by using a [OrdinalEncoder](https://scikit-learn.org/stable/modules/generated/sklearn.preprocessing.OrdinalEncoder.html) function from scikit-learn. \n",
    "    - Others, like `Location` are _nominal_ because there is no ordering between values. The recommended way to handle such columns is to create as many columns as possible values (e.g. `Seg I`, `Seg II`, `Seg III`, etc.), and assign a `1` to one of them and `0` to all others. That is called **OneHotEncoding** and we can use the scikit-learn [OneHotEncoder](https://scikit-learn.org/stable/modules/generated/sklearn.preprocessing.OneHotEncoder.html) function to perform this transformation. Run the code cell below to perform the preprocessing routine discussed in this section."
   ]
  },
  {
   "cell_type": "code",
   "execution_count": 151,
   "metadata": {},
   "outputs": [],
   "source": [
    "# Map the M/F and Y/N to 1/0 values\n",
    "GENDER_LABELS = {\"M\": 0, \"F\": 1}\n",
    "ALCOHOL_LABELS = {\"N\": 0, \"Y\": 1}\n",
    "\n",
    "df.loc[:, \"Gender\"] = df[\"Gender\"].map(GENDER_LABELS)\n",
    "df.loc[:, \"Alcohol\"] = df[\"Alcohol\"].map(ALCOHOL_LABELS)"
   ]
  },
  {
   "cell_type": "code",
   "execution_count": 152,
   "metadata": {},
   "outputs": [],
   "source": [
    "from sklearn.preprocessing import OrdinalEncoder, OneHotEncoder\n",
    "\n",
    "# TODO: Transform Encephalopathy using Ordinal Encoder\n",
    "oe = OrdinalEncoder()\n",
    "df[\"Encefalopathy\"] = oe.fit_transform(df[[\"Encefalopathy\"]])\n"
   ]
  },
  {
   "cell_type": "code",
   "execution_count": 153,
   "metadata": {},
   "outputs": [],
   "source": [
    "# Transform Location using One Hot Encoder\n",
    "ohe = OneHotEncoder(sparse_output=False)\n",
    "location_ohe = ohe.fit_transform(df[[\"Location\"]])"
   ]
  },
  {
   "cell_type": "code",
   "execution_count": 154,
   "metadata": {},
   "outputs": [],
   "source": [
    "location_encoded = pd.DataFrame(location_ohe, columns=ohe.get_feature_names_out([\"Location\"]))"
   ]
  },
  {
   "cell_type": "code",
   "execution_count": 155,
   "metadata": {},
   "outputs": [],
   "source": [
    "df_encoded = pd.concat([df, location_encoded], axis=1)  # Concatenate both frames"
   ]
  },
  {
   "cell_type": "code",
   "execution_count": 156,
   "metadata": {},
   "outputs": [],
   "source": [
    "df_encoded.drop(columns=[\"Location\"], inplace=True)     # Drop \"Location\" feature (we have now the OneHotEncoding version)\n",
    "\n",
    "# Put \"CLASS\" (target) again at the end of the dataframe\n",
    "cols = list(df_encoded.columns)\n",
    "cols.remove(\"CLASS\")\n",
    "cols.append(\"CLASS\")\n",
    "df_encoded = df_encoded[cols]"
   ]
  },
  {
   "cell_type": "markdown",
   "metadata": {},
   "source": [
    "You may now want to normalize your data to respect the `[0, 1]` range for all features. Consider using [MinMaxScaler](https://scikit-learn.org/stable/modules/generated/sklearn.preprocessing.MinMaxScaler.html) from scikit-learn. You should also normalize `Encephalopathy`.\n",
    "\n",
    "Finally, maybe consider a mapping to encode the `CLASS`. Remember that you want to predict the \"mortality\" so consider `Dies = 1` as you \"positive\" class (the one you'd like to predict)."
   ]
  },
  {
   "cell_type": "code",
   "execution_count": 157,
   "metadata": {},
   "outputs": [],
   "source": [
    "# TODO: Import any additional functionality you may need here\n",
    "from sklearn.preprocessing import MinMaxScaler\n",
    "# TODO: Encode the class labels: Lives and Dies into 0 and 1, respectively\n",
    "df_encoded[\"CLASS\"] = df_encoded[\"CLASS\"].map({\"LIVES\": 0, \"DIES\": 1})\n",
    "# TODO: Normalize the Age, Total_Bil, and Encephalopathy columns using MinMaxScaler\n",
    "scaler = MinMaxScaler()\n",
    "columns_to_scale = [\"Age\", \"Total_Bil\", \"Encefalopathy\"]\n",
    "df_encoded[columns_to_scale] = scaler.fit_transform(df_encoded[columns_to_scale])"
   ]
  },
  {
   "cell_type": "code",
   "execution_count": 158,
   "metadata": {},
   "outputs": [
    {
     "data": {
      "text/html": [
       "<div>\n",
       "<style scoped>\n",
       "    .dataframe tbody tr th:only-of-type {\n",
       "        vertical-align: middle;\n",
       "    }\n",
       "\n",
       "    .dataframe tbody tr th {\n",
       "        vertical-align: top;\n",
       "    }\n",
       "\n",
       "    .dataframe thead th {\n",
       "        text-align: right;\n",
       "    }\n",
       "</style>\n",
       "<table border=\"1\" class=\"dataframe\">\n",
       "  <thead>\n",
       "    <tr style=\"text-align: right;\">\n",
       "      <th></th>\n",
       "      <th>Age</th>\n",
       "      <th>Encefalopathy</th>\n",
       "      <th>Total_Bil</th>\n",
       "      <th>Location_Seg I</th>\n",
       "      <th>Location_Seg II</th>\n",
       "      <th>Location_Seg III</th>\n",
       "      <th>Location_Seg IV</th>\n",
       "      <th>Location_Seg V</th>\n",
       "      <th>CLASS</th>\n",
       "    </tr>\n",
       "  </thead>\n",
       "  <tbody>\n",
       "    <tr>\n",
       "      <th>count</th>\n",
       "      <td>165.000000</td>\n",
       "      <td>165.000000</td>\n",
       "      <td>165.000000</td>\n",
       "      <td>165.000000</td>\n",
       "      <td>165.000000</td>\n",
       "      <td>165.000000</td>\n",
       "      <td>165.000000</td>\n",
       "      <td>165.000000</td>\n",
       "      <td>165.000000</td>\n",
       "    </tr>\n",
       "    <tr>\n",
       "      <th>mean</th>\n",
       "      <td>0.612204</td>\n",
       "      <td>0.878788</td>\n",
       "      <td>0.069352</td>\n",
       "      <td>0.418182</td>\n",
       "      <td>0.145455</td>\n",
       "      <td>0.066667</td>\n",
       "      <td>0.012121</td>\n",
       "      <td>0.357576</td>\n",
       "      <td>0.381818</td>\n",
       "    </tr>\n",
       "    <tr>\n",
       "      <th>std</th>\n",
       "      <td>0.182459</td>\n",
       "      <td>0.317918</td>\n",
       "      <td>0.134699</td>\n",
       "      <td>0.494762</td>\n",
       "      <td>0.353632</td>\n",
       "      <td>0.250203</td>\n",
       "      <td>0.109760</td>\n",
       "      <td>0.480745</td>\n",
       "      <td>0.487311</td>\n",
       "    </tr>\n",
       "    <tr>\n",
       "      <th>min</th>\n",
       "      <td>0.000000</td>\n",
       "      <td>0.000000</td>\n",
       "      <td>0.000000</td>\n",
       "      <td>0.000000</td>\n",
       "      <td>0.000000</td>\n",
       "      <td>0.000000</td>\n",
       "      <td>0.000000</td>\n",
       "      <td>0.000000</td>\n",
       "      <td>0.000000</td>\n",
       "    </tr>\n",
       "    <tr>\n",
       "      <th>25%</th>\n",
       "      <td>0.506849</td>\n",
       "      <td>1.000000</td>\n",
       "      <td>0.014925</td>\n",
       "      <td>0.000000</td>\n",
       "      <td>0.000000</td>\n",
       "      <td>0.000000</td>\n",
       "      <td>0.000000</td>\n",
       "      <td>0.000000</td>\n",
       "      <td>0.000000</td>\n",
       "    </tr>\n",
       "    <tr>\n",
       "      <th>50%</th>\n",
       "      <td>0.630137</td>\n",
       "      <td>1.000000</td>\n",
       "      <td>0.027363</td>\n",
       "      <td>0.000000</td>\n",
       "      <td>0.000000</td>\n",
       "      <td>0.000000</td>\n",
       "      <td>0.000000</td>\n",
       "      <td>0.000000</td>\n",
       "      <td>0.000000</td>\n",
       "    </tr>\n",
       "    <tr>\n",
       "      <th>75%</th>\n",
       "      <td>0.739726</td>\n",
       "      <td>1.000000</td>\n",
       "      <td>0.069352</td>\n",
       "      <td>1.000000</td>\n",
       "      <td>0.000000</td>\n",
       "      <td>0.000000</td>\n",
       "      <td>0.000000</td>\n",
       "      <td>1.000000</td>\n",
       "      <td>1.000000</td>\n",
       "    </tr>\n",
       "    <tr>\n",
       "      <th>max</th>\n",
       "      <td>1.000000</td>\n",
       "      <td>1.000000</td>\n",
       "      <td>1.000000</td>\n",
       "      <td>1.000000</td>\n",
       "      <td>1.000000</td>\n",
       "      <td>1.000000</td>\n",
       "      <td>1.000000</td>\n",
       "      <td>1.000000</td>\n",
       "      <td>1.000000</td>\n",
       "    </tr>\n",
       "  </tbody>\n",
       "</table>\n",
       "</div>"
      ],
      "text/plain": [
       "              Age  Encefalopathy   Total_Bil  Location_Seg I  Location_Seg II  \\\n",
       "count  165.000000     165.000000  165.000000      165.000000       165.000000   \n",
       "mean     0.612204       0.878788    0.069352        0.418182         0.145455   \n",
       "std      0.182459       0.317918    0.134699        0.494762         0.353632   \n",
       "min      0.000000       0.000000    0.000000        0.000000         0.000000   \n",
       "25%      0.506849       1.000000    0.014925        0.000000         0.000000   \n",
       "50%      0.630137       1.000000    0.027363        0.000000         0.000000   \n",
       "75%      0.739726       1.000000    0.069352        1.000000         0.000000   \n",
       "max      1.000000       1.000000    1.000000        1.000000         1.000000   \n",
       "\n",
       "       Location_Seg III  Location_Seg IV  Location_Seg V       CLASS  \n",
       "count        165.000000       165.000000      165.000000  165.000000  \n",
       "mean           0.066667         0.012121        0.357576    0.381818  \n",
       "std            0.250203         0.109760        0.480745    0.487311  \n",
       "min            0.000000         0.000000        0.000000    0.000000  \n",
       "25%            0.000000         0.000000        0.000000    0.000000  \n",
       "50%            0.000000         0.000000        0.000000    0.000000  \n",
       "75%            0.000000         0.000000        1.000000    1.000000  \n",
       "max            1.000000         1.000000        1.000000    1.000000  "
      ]
     },
     "execution_count": 158,
     "metadata": {},
     "output_type": "execute_result"
    }
   ],
   "source": [
    "df_encoded.describe()"
   ]
  },
  {
   "cell_type": "markdown",
   "metadata": {},
   "source": [
    "## **Training and Testing Data Split**\n",
    "By now, we should have our dataset preprocessed and ready for the classification task. For the next step, we will split the data (both features and corresponding labels) into training and test sets using the **Hold-out** (check the course slides to remember what this is)."
   ]
  },
  {
   "cell_type": "markdown",
   "metadata": {},
   "source": [
    "##### **[Implementation] Holdout Method for Train/Test split**\n",
    "To implement the hold-out method, we will use the [train_test_split](https://scikit-learn.org/stable/modules/generated/sklearn.model_selection.train_test_split.html) function from scikit-learn, keeping 80% for training and 20% for the test set.\n",
    "\n",
    "**Note:** This is a very naive approach to data partitioning. In your project, you should either considering using hold-out several times (and average the results), or consider more advanced strategies such as k-fold cross-validation. If you try to perform hold-out several times and average the results, don't forget to change/remove the `random_state`!)"
   ]
  },
  {
   "cell_type": "code",
   "execution_count": 159,
   "metadata": {},
   "outputs": [],
   "source": [
    "# Divide your dataframe into X (features) and class (y)\n",
    "X = df_encoded.iloc[:,:-1].astype(float)\n",
    "y = df_encoded.iloc[:, -1].astype(int)"
   ]
  },
  {
   "cell_type": "code",
   "execution_count": 160,
   "metadata": {},
   "outputs": [
    {
     "data": {
      "text/html": [
       "<div>\n",
       "<style scoped>\n",
       "    .dataframe tbody tr th:only-of-type {\n",
       "        vertical-align: middle;\n",
       "    }\n",
       "\n",
       "    .dataframe tbody tr th {\n",
       "        vertical-align: top;\n",
       "    }\n",
       "\n",
       "    .dataframe thead th {\n",
       "        text-align: right;\n",
       "    }\n",
       "</style>\n",
       "<table border=\"1\" class=\"dataframe\">\n",
       "  <thead>\n",
       "    <tr style=\"text-align: right;\">\n",
       "      <th></th>\n",
       "      <th>Gender</th>\n",
       "      <th>Alcohol</th>\n",
       "      <th>Age</th>\n",
       "      <th>Encefalopathy</th>\n",
       "      <th>Total_Bil</th>\n",
       "      <th>Location_Seg I</th>\n",
       "      <th>Location_Seg II</th>\n",
       "      <th>Location_Seg III</th>\n",
       "      <th>Location_Seg IV</th>\n",
       "      <th>Location_Seg V</th>\n",
       "    </tr>\n",
       "  </thead>\n",
       "  <tbody>\n",
       "    <tr>\n",
       "      <th>0</th>\n",
       "      <td>0.0</td>\n",
       "      <td>1.0</td>\n",
       "      <td>0.643836</td>\n",
       "      <td>1.0</td>\n",
       "      <td>0.044776</td>\n",
       "      <td>1.0</td>\n",
       "      <td>0.0</td>\n",
       "      <td>0.0</td>\n",
       "      <td>0.0</td>\n",
       "      <td>0.0</td>\n",
       "    </tr>\n",
       "    <tr>\n",
       "      <th>1</th>\n",
       "      <td>1.0</td>\n",
       "      <td>0.0</td>\n",
       "      <td>0.575342</td>\n",
       "      <td>1.0</td>\n",
       "      <td>0.069352</td>\n",
       "      <td>1.0</td>\n",
       "      <td>0.0</td>\n",
       "      <td>0.0</td>\n",
       "      <td>0.0</td>\n",
       "      <td>0.0</td>\n",
       "    </tr>\n",
       "    <tr>\n",
       "      <th>2</th>\n",
       "      <td>0.0</td>\n",
       "      <td>1.0</td>\n",
       "      <td>0.794521</td>\n",
       "      <td>1.0</td>\n",
       "      <td>0.002488</td>\n",
       "      <td>0.0</td>\n",
       "      <td>0.0</td>\n",
       "      <td>0.0</td>\n",
       "      <td>0.0</td>\n",
       "      <td>1.0</td>\n",
       "    </tr>\n",
       "    <tr>\n",
       "      <th>3</th>\n",
       "      <td>0.0</td>\n",
       "      <td>1.0</td>\n",
       "      <td>0.780822</td>\n",
       "      <td>1.0</td>\n",
       "      <td>0.002488</td>\n",
       "      <td>0.0</td>\n",
       "      <td>1.0</td>\n",
       "      <td>0.0</td>\n",
       "      <td>0.0</td>\n",
       "      <td>0.0</td>\n",
       "    </tr>\n",
       "    <tr>\n",
       "      <th>4</th>\n",
       "      <td>0.0</td>\n",
       "      <td>1.0</td>\n",
       "      <td>0.767123</td>\n",
       "      <td>1.0</td>\n",
       "      <td>0.009950</td>\n",
       "      <td>1.0</td>\n",
       "      <td>0.0</td>\n",
       "      <td>0.0</td>\n",
       "      <td>0.0</td>\n",
       "      <td>0.0</td>\n",
       "    </tr>\n",
       "    <tr>\n",
       "      <th>...</th>\n",
       "      <td>...</td>\n",
       "      <td>...</td>\n",
       "      <td>...</td>\n",
       "      <td>...</td>\n",
       "      <td>...</td>\n",
       "      <td>...</td>\n",
       "      <td>...</td>\n",
       "      <td>...</td>\n",
       "      <td>...</td>\n",
       "      <td>...</td>\n",
       "    </tr>\n",
       "    <tr>\n",
       "      <th>160</th>\n",
       "      <td>1.0</td>\n",
       "      <td>1.0</td>\n",
       "      <td>0.273973</td>\n",
       "      <td>1.0</td>\n",
       "      <td>0.004975</td>\n",
       "      <td>0.0</td>\n",
       "      <td>0.0</td>\n",
       "      <td>0.0</td>\n",
       "      <td>0.0</td>\n",
       "      <td>1.0</td>\n",
       "    </tr>\n",
       "    <tr>\n",
       "      <th>161</th>\n",
       "      <td>1.0</td>\n",
       "      <td>0.0</td>\n",
       "      <td>0.657534</td>\n",
       "      <td>1.0</td>\n",
       "      <td>0.082090</td>\n",
       "      <td>1.0</td>\n",
       "      <td>0.0</td>\n",
       "      <td>0.0</td>\n",
       "      <td>0.0</td>\n",
       "      <td>0.0</td>\n",
       "    </tr>\n",
       "    <tr>\n",
       "      <th>162</th>\n",
       "      <td>0.0</td>\n",
       "      <td>1.0</td>\n",
       "      <td>0.616438</td>\n",
       "      <td>1.0</td>\n",
       "      <td>0.007463</td>\n",
       "      <td>0.0</td>\n",
       "      <td>0.0</td>\n",
       "      <td>0.0</td>\n",
       "      <td>0.0</td>\n",
       "      <td>1.0</td>\n",
       "    </tr>\n",
       "    <tr>\n",
       "      <th>163</th>\n",
       "      <td>0.0</td>\n",
       "      <td>1.0</td>\n",
       "      <td>0.328767</td>\n",
       "      <td>1.0</td>\n",
       "      <td>0.019900</td>\n",
       "      <td>0.0</td>\n",
       "      <td>0.0</td>\n",
       "      <td>0.0</td>\n",
       "      <td>0.0</td>\n",
       "      <td>1.0</td>\n",
       "    </tr>\n",
       "    <tr>\n",
       "      <th>164</th>\n",
       "      <td>0.0</td>\n",
       "      <td>1.0</td>\n",
       "      <td>0.438356</td>\n",
       "      <td>1.0</td>\n",
       "      <td>0.701493</td>\n",
       "      <td>0.0</td>\n",
       "      <td>0.0</td>\n",
       "      <td>0.0</td>\n",
       "      <td>0.0</td>\n",
       "      <td>1.0</td>\n",
       "    </tr>\n",
       "  </tbody>\n",
       "</table>\n",
       "<p>165 rows × 10 columns</p>\n",
       "</div>"
      ],
      "text/plain": [
       "     Gender  Alcohol       Age  Encefalopathy  Total_Bil  Location_Seg I  \\\n",
       "0       0.0      1.0  0.643836            1.0   0.044776             1.0   \n",
       "1       1.0      0.0  0.575342            1.0   0.069352             1.0   \n",
       "2       0.0      1.0  0.794521            1.0   0.002488             0.0   \n",
       "3       0.0      1.0  0.780822            1.0   0.002488             0.0   \n",
       "4       0.0      1.0  0.767123            1.0   0.009950             1.0   \n",
       "..      ...      ...       ...            ...        ...             ...   \n",
       "160     1.0      1.0  0.273973            1.0   0.004975             0.0   \n",
       "161     1.0      0.0  0.657534            1.0   0.082090             1.0   \n",
       "162     0.0      1.0  0.616438            1.0   0.007463             0.0   \n",
       "163     0.0      1.0  0.328767            1.0   0.019900             0.0   \n",
       "164     0.0      1.0  0.438356            1.0   0.701493             0.0   \n",
       "\n",
       "     Location_Seg II  Location_Seg III  Location_Seg IV  Location_Seg V  \n",
       "0                0.0               0.0              0.0             0.0  \n",
       "1                0.0               0.0              0.0             0.0  \n",
       "2                0.0               0.0              0.0             1.0  \n",
       "3                1.0               0.0              0.0             0.0  \n",
       "4                0.0               0.0              0.0             0.0  \n",
       "..               ...               ...              ...             ...  \n",
       "160              0.0               0.0              0.0             1.0  \n",
       "161              0.0               0.0              0.0             0.0  \n",
       "162              0.0               0.0              0.0             1.0  \n",
       "163              0.0               0.0              0.0             1.0  \n",
       "164              0.0               0.0              0.0             1.0  \n",
       "\n",
       "[165 rows x 10 columns]"
      ]
     },
     "execution_count": 160,
     "metadata": {},
     "output_type": "execute_result"
    }
   ],
   "source": [
    "X"
   ]
  },
  {
   "cell_type": "code",
   "execution_count": 161,
   "metadata": {},
   "outputs": [
    {
     "data": {
      "text/plain": [
       "0      0\n",
       "1      0\n",
       "2      0\n",
       "3      1\n",
       "4      0\n",
       "      ..\n",
       "160    0\n",
       "161    1\n",
       "162    0\n",
       "163    1\n",
       "164    1\n",
       "Name: CLASS, Length: 165, dtype: int64"
      ]
     },
     "execution_count": 161,
     "metadata": {},
     "output_type": "execute_result"
    }
   ],
   "source": [
    "y"
   ]
  },
  {
   "cell_type": "code",
   "execution_count": 162,
   "metadata": {},
   "outputs": [
    {
     "data": {
      "text/plain": [
       "Gender              float64\n",
       "Alcohol             float64\n",
       "Age                 float64\n",
       "Encefalopathy       float64\n",
       "Total_Bil           float64\n",
       "Location_Seg I      float64\n",
       "Location_Seg II     float64\n",
       "Location_Seg III    float64\n",
       "Location_Seg IV     float64\n",
       "Location_Seg V      float64\n",
       "dtype: object"
      ]
     },
     "execution_count": 162,
     "metadata": {},
     "output_type": "execute_result"
    }
   ],
   "source": [
    "X.dtypes"
   ]
  },
  {
   "cell_type": "code",
   "execution_count": 163,
   "metadata": {},
   "outputs": [
    {
     "data": {
      "text/plain": [
       "dtype('int64')"
      ]
     },
     "execution_count": 163,
     "metadata": {},
     "output_type": "execute_result"
    }
   ],
   "source": [
    "y.dtype"
   ]
  },
  {
   "cell_type": "code",
   "execution_count": 164,
   "metadata": {
    "collapsed": false
   },
   "outputs": [
    {
     "name": "stdout",
     "output_type": "stream",
     "text": [
      "Training set has 132 patterns: 82 from class 0 and 50 from class 1.\n",
      "Training set has 33 patterns: 20 from class 0 and 13 from class 1.\n",
      "The sum of patterns is 165 patterns, which amount to the original 165 patterns.\n"
     ]
    }
   ],
   "source": [
    "from sklearn.model_selection import train_test_split\n",
    "\n",
    "# TODO: Set the X_train, X_test, y_train, y_test variables according to 80/20 split\n",
    "X = df_encoded.iloc[:, :-1].astype(float)\n",
    "y = df_encoded.iloc[:, -1].astype(int)\n",
    "\n",
    "X_train, X_test, y_train, y_test = train_test_split(X, y, test_size=0.2, random_state=42)\n",
    "\n",
    "# Show the results of the split\n",
    "print(f\"Training set has {X_train.shape[0]} patterns: {y_train.value_counts()[0]} from class 0 and {y_train.value_counts()[1]} from class 1.\")\n",
    "print(f\"Training set has {X_test.shape[0]} patterns: {y_test.value_counts()[0]} from class 0 and {y_test.value_counts()[1]} from class 1.\")\n",
    "print(f\"The sum of patterns is {X_train.shape[0] + X_test.shape[0]} patterns, which amount to the original {X.shape[0]} patterns.\")"
   ]
  },
  {
   "cell_type": "markdown",
   "metadata": {},
   "source": [
    "## **Training and Evaluating Classification Models**\n",
    "In this section, you will choose 3 supervised learning models that are appropriate for this problem and available in `scikit-learn`. You should first discuss the reasoning behind choosing these three models by considering what you know about the data and each model's strengths and weaknesses. Then, you will then fit the model to the training data and measure the F<sub>1</sub> score. You will need to produce three tables (one for each model) that shows the F<sub>1</sub> score on the training set, and F<sub>1</sub> score on the test set.\n",
    "\n",
    "**The [following supervised learning models](http://scikit-learn.org/stable/supervised_learning.html) are currently available in `scikit-learn` that you may choose from:**\n",
    "- Gaussian Naive Bayes (GaussianNB)\n",
    "- Decision Trees\n",
    "- Ensemble Methods (Bagging, AdaBoost, Random Forest, Gradient Boosting)\n",
    "- K-Nearest Neighbors (KNeighbors)\n",
    "- Stochastic Gradient Descent (SGDC)\n",
    "- Support Vector Machines (SVM)\n",
    "- Logistic Regression\n",
    "\n",
    "\n",
    "##### **[Questions]**\n",
    "List three supervised learning models that are appropriate for this problem. For each model chosen:\n",
    "\n",
    "- Describe one real-world application in industry where the model can be applied. *(You may need to do a small bit of research for this!)* \n",
    "- What are the strengths of the model; when does it perform well? \n",
    "- What are the weaknesses of the model; when does it perform poorly?\n",
    "- What makes this model a good candidate for the problem, given what you know about the data?"
   ]
  },
  {
   "cell_type": "markdown",
   "metadata": {},
   "source": [
    "##### **[Implementation] Classifying with K-Nearest Neighbours**\n",
    "For the purpose of this exercise, we will use [KNN - Nearest Neighbours Classification](https://scikit-learn.org/stable/modules/neighbors.html#nearest-neighbors-classification). \n",
    "\n",
    "You can explore the code cell below that creates three helper functions which you can use for training and testing supervised learning. The functions are as follows:\n",
    "- `train_classifier` - takes as input a classifier (`clf`) and training data (`X_train`) and fits the classifier to the data.\n",
    "- `predict_labels` - takes as input a fit classifier (`clf`), the test data (`X_test`) and its grouth truth (`y_test`), makes predictions about the `X_test` and computes the F<sub>1</sub> score by comparing the predicted labels (`y_test`) with the grouth truth (`y_pred`).\n",
    "- `train_predict` - takes as input a classifier, and the training and testing data, and performs `train_clasifier` and `predict_labels`.\n",
    " - This function will report the F<sub>1</sub> score for both the training and testing data separately."
   ]
  },
  {
   "cell_type": "code",
   "execution_count": 165,
   "metadata": {
    "collapsed": false
   },
   "outputs": [],
   "source": [
    "from time import time\n",
    "from sklearn.metrics import f1_score\n",
    "\n",
    "def train_classifier(clf, X_train, y_train):\n",
    "    \"\"\"Fits a classifier to the training data.\"\"\"\n",
    "    \n",
    "    # Start the clock, train the classifier, then stop the clock\n",
    "    start = time()\n",
    "    clf.fit(X_train, y_train)\n",
    "    end = time()\n",
    "    \n",
    "    # Print the results\n",
    "    print(f\"Trained model in {(end-start):.4f} seconds\")\n",
    "\n",
    "def predict_labels(clf, X_test, y_test):\n",
    "    \"\"\"Makes predictions using a fit classifier and calculates the F1 score.\"\"\"\n",
    "    \n",
    "    # Start the clock, make predictions, then stop the clock\n",
    "    start = time()\n",
    "    y_pred = clf.predict(X_test)\n",
    "    end = time()\n",
    "    \n",
    "    # Print and return results\n",
    "    print(f\"Made predictions in {(end-start):.4f} seconds.\")\n",
    "    return f1_score(y_test, y_pred, pos_label=1) # Positive label is 1 (\"Dies\")\n",
    "\n",
    "def train_predict(clf, X_train, y_train, X_test, y_test):\n",
    "    \"\"\"Training and evaluating a classifier usig F1 score.\"\"\"\n",
    "\n",
    "    # Train the classifier\n",
    "    train_classifier(clf, X_train, y_train)\n",
    "    \n",
    "    # Print the results of prediction for both training and test sets\n",
    "    print(f\"F1 score for training set: {predict_labels(clf, X_train, y_train):.4f}.\")\n",
    "    print(f\"F1 score for test set: {predict_labels(clf, X_test, y_test):.4f}.\")"
   ]
  },
  {
   "cell_type": "code",
   "execution_count": 169,
   "metadata": {},
   "outputs": [
    {
     "name": "stdout",
     "output_type": "stream",
     "text": [
      "Trained model in 0.0055 seconds\n",
      "Made predictions in 0.0060 seconds.\n",
      "F1 score for training set: 0.5000.\n",
      "Made predictions in 0.0019 seconds.\n",
      "F1 score for test set: 0.4000.\n"
     ]
    }
   ],
   "source": [
    "# TODO: Import the KNeighborsClassifier and use train_predict to see the results\n",
    "from sklearn.neighbors import KNeighborsClassifier\n",
    "\n",
    "# Criar o modelo KNN\n",
    "knn_clf = KNeighborsClassifier(n_neighbors=5)\n",
    "\n",
    "# Treinar e prever\n",
    "train_predict(knn_clf, X_train, y_train, X_test, y_test)"
   ]
  },
  {
   "cell_type": "markdown",
   "metadata": {},
   "source": [
    "## **Evaluating Performance Metrics**\n",
    "\n",
    "With the predefined functions above, you can import the three supervised learning models of your choice and run the `train_predict` function for each one.\n",
    "\n",
    "**Note that:**\n",
    "\n",
    "- Depending on the chosen classifiers, you might need to perform a slightly different preprocessing (*most classifiers in scikit-learn can handle numeric data as it is, but to improve interpretability, it might be more adequate to transform the features in different ways*).\n",
    "\n",
    "- You can initialize the three learning models and store them as `clf_A`, `clf_B`, `clf_C`, etc. Or give them more specific names, such as `knn_clf`, `df_clf`, etc. `clf` stands for \"classifier\", but it is just a convention and you can give it any other name!\n",
    "\n",
    "- You can use a `random_state` for each model you create, to ensure its initialization is the same between runs (*this ensures that model predictions are reproducible*).\n",
    "\n",
    "- For now, you can use the default settings for each model — you will tune one specific model in a later section.\n",
    " \n",
    "- You can use the table below to store your results."
   ]
  },
  {
   "cell_type": "code",
   "execution_count": 172,
   "metadata": {
    "collapsed": false
   },
   "outputs": [
    {
     "name": "stdout",
     "output_type": "stream",
     "text": [
      "KNN Classifier:\n",
      "Trained model in 0.0020 seconds\n",
      "Made predictions in 0.0067 seconds.\n",
      "F1 score for training set: 0.5000.\n",
      "Made predictions in 0.0026 seconds.\n",
      "F1 score for test set: 0.4000.\n",
      "\n",
      "Decision Tree Classifier:\n",
      "Trained model in 0.0048 seconds\n",
      "Made predictions in 0.0006 seconds.\n",
      "F1 score for training set: 1.0000.\n",
      "Made predictions in 0.0006 seconds.\n",
      "F1 score for test set: 0.4444.\n",
      "\n",
      "Logistic Regression Classifier:\n",
      "Trained model in 0.0103 seconds\n",
      "Made predictions in 0.0005 seconds.\n",
      "F1 score for training set: 0.2462.\n",
      "Made predictions in 0.0007 seconds.\n",
      "F1 score for test set: 0.2353.\n"
     ]
    }
   ],
   "source": [
    "# TODO: Import the three supervised learning models from sklearn\n",
    "# from sklearn import model_A\n",
    "# from sklearn import model_B\n",
    "# from skearln import model_C\n",
    "from sklearn.neighbors import KNeighborsClassifier\n",
    "from sklearn.tree import DecisionTreeClassifier\n",
    "from sklearn.linear_model import LogisticRegression\n",
    "\n",
    "# TODO: Initialize the three models\n",
    "clf_A = KNeighborsClassifier(n_neighbors=5)\n",
    "clf_B = DecisionTreeClassifier(random_state=42)\n",
    "clf_C = LogisticRegression(random_state=42)\n",
    "\n",
    "# TODO: Execute the 'train_predict' function for each classifier and each training set size\n",
    "# train_predict(clf, X_train, y_train, X_test, y_test)\n",
    "print(\"KNN Classifier:\")\n",
    "train_predict(clf_A, X_train, y_train, X_test, y_test)\n",
    "print(\"\\nDecision Tree Classifier:\")\n",
    "train_predict(clf_B, X_train, y_train, X_test, y_test)\n",
    "print(\"\\nLogistic Regression Classifier:\")\n",
    "train_predict(clf_C, X_train, y_train, X_test, y_test)"
   ]
  },
  {
   "cell_type": "markdown",
   "metadata": {},
   "source": [
    "### **Tabular Results**\n",
    "Edit the cell below to see how a table can be designed in [Markdown](https://github.com/adam-p/markdown-here/wiki/Markdown-Cheatsheet#tables). You can record your results from above in the table provided."
   ]
  },
  {
   "cell_type": "markdown",
   "metadata": {},
   "source": [
    "| Classifier        | Training Time | Prediction Time (test) | F1 Score (train) | F1 Score (test) |\n",
    "| :---------------: | :---------------------: | :--------------------: | :--------------: | :-------------: |\n",
    "| NAME Classifier 1 |                         |                        |                  |                 |\n",
    "| NAME Classifier 2 |        EXAMPLE          |                        |                  |                 |\n",
    "| NAME Classifier 3 |                         |                        |                  |    EXAMPLE      |"
   ]
  },
  {
   "cell_type": "markdown",
   "metadata": {},
   "source": [
    "## **Choosing the Best Model**\n",
    "In this final section, you will choose from the three supervised learning models the *best* model to use on the HCC data. You will then perform a grid search optimization for the model over the entire training set (`X_train` and `y_train`) by tuning at least one parameter to improve upon the untuned model's F<sub>1</sub> score. "
   ]
  },
  {
   "cell_type": "markdown",
   "metadata": {},
   "source": [
    "##### **[Questions]**\n",
    "\n",
    "- Based on your experiments how would you explain to the board of supervisors which model you chose as the best model? Which model is generally the most appropriate based on the available data, limited resources, cost, and performance?\n",
    "\n",
    "- In your own words, how would you explain to the board of directors how the final model chosen is supposed to work? Be sure that you are describing the major qualities of the model, such as how the model is trained and how the model makes a prediction. Imagina that the directors known nothing about machine learning, so avoid using advanced mathematical or technical jargon, such as describing equations or discussing the algorithm implementation."
   ]
  },
  {
   "cell_type": "markdown",
   "metadata": {},
   "source": [
    "## **Hyperparameter Tuning**\n",
    "Once you've chosen a model, you can try to optimize your results by *looking for a set of parameters* that increase your performance metric. To do this, you can use [GridSearchCV](https://scikit-learn.org/stable/modules/generated/sklearn.model_selection.GridSearchCV.html).\n",
    "\n",
    "In the following example, we will use `GridSearchCV` to tune the performance of a `KNeighborsClassifier`.\n",
    "\n",
    "\n"
   ]
  },
  {
   "cell_type": "code",
   "execution_count": 181,
   "metadata": {},
   "outputs": [
    {
     "name": "stdout",
     "output_type": "stream",
     "text": [
      "Current parameters and values for our previous KNN classifier:\n",
      "{'algorithm': 'auto', 'leaf_size': 30, 'metric': 'minkowski', 'metric_params': None, 'n_jobs': None, 'n_neighbors': 5, 'p': 2, 'weights': 'uniform'}\n",
      "\n",
      "Grid Search KNN Best Parameters:\n",
      " {'metric': 'cosine', 'n_neighbors': 3, 'weights': 'distance'}\n",
      "\n",
      "Best Model F1 Score: 0.39953216374269\n",
      "\n",
      "Results from best KNN Model:\n",
      "Trained model in 0.0006 seconds\n",
      "Made predictions in 0.0016 seconds.\n",
      "F1 score for training set: 1.0000.\n",
      "Made predictions in 0.0010 seconds.\n",
      "F1 score for test set: 0.5833.\n"
     ]
    }
   ],
   "source": [
    "from sklearn.model_selection import GridSearchCV\n",
    "from sklearn.neighbors import KNeighborsClassifier\n",
    "\n",
    "print(f\"Current parameters and values for our previous KNN classifier:\\n{clf_A.get_params()}\")\n",
    "\n",
    "params = [{'n_neighbors': [3, 5, 7, 9],\n",
    "           'weights': ['uniform', 'distance'],\n",
    "           'metric': ['euclidean', 'cosine', 'cityblock', 'manhattan']\n",
    "           }]\n",
    "\n",
    "knn = KNeighborsClassifier()\n",
    "gs_knn = GridSearchCV(knn, param_grid=params, scoring=\"f1\")\n",
    "gs_knn.fit(X_train, y_train)\n",
    "\n",
    "print(f\"\\nGrid Search KNN Best Parameters:\\n {gs_knn.best_params_}\")\n",
    "print(f\"\\nBest Model F1 Score: {gs_knn.best_score_}\")\n",
    "\n",
    "# Use the best model directly\n",
    "print(\"\\nResults from best KNN Model:\")\n",
    "best_knn_clf = gs_knn.best_estimator_\n",
    "train_predict(best_knn_clf, X_train, y_train, X_test, y_test)"
   ]
  },
  {
   "cell_type": "markdown",
   "metadata": {},
   "source": [
    "##### **[Implementation] Experimenting with Hyperparameter Tuning**\n",
    "\n",
    "You can now use grid search (`GridSearchCV`) to tune some parameters of your previously chosen models. \n",
    "\n",
    "You can start by filling the code cell below to specify the grid search configurations for another of your classifiers:\n",
    "\n",
    "- Import the necessary functionality (classifier, gridsearch, and metrics)\n",
    "- Create a dictionary of parameters you wish to tune for the chosen model\n",
    "- Initialize the classifier `clf`\n",
    "- Perform grid search on the classifier `clf` using `f1` as the scoring method, and store it in `grid_obj`.\n",
    "- Fit the grid search object to the training data (`X_train`, `y_train`)\n",
    "- Find the `best_estimator` (best classifier) that contains the best parameters\n",
    "- Test the best classifier on the training and test sets"
   ]
  },
  {
   "cell_type": "code",
   "execution_count": 182,
   "metadata": {
    "collapsed": false
   },
   "outputs": [
    {
     "name": "stdout",
     "output_type": "stream",
     "text": [
      "Best Parameters: {'metric': 'cosine', 'n_neighbors': 3, 'weights': 'distance'}\n",
      "Best F1 Score: 0.39953216374269\n",
      "Trained model in 0.0006 seconds\n",
      "Made predictions in 0.0015 seconds.\n",
      "F1 score for training set: 1.0000.\n",
      "Made predictions in 0.0009 seconds.\n",
      "F1 score for test set: 0.5833.\n"
     ]
    }
   ],
   "source": [
    "# TODO: Import all necessary functionality here\n",
    "from sklearn.model_selection import GridSearchCV\n",
    "# TODO: Create the parameters list you wish to tune\n",
    "parameters = {\n",
    "    \"n_neighbors\": [3, 5, 7, 9],\n",
    "    \"weights\": [\"uniform\", \"distance\"],\n",
    "    \"metric\": [\"euclidean\", \"cosine\", \"manhattan\"]\n",
    "}\n",
    "\n",
    "# TODO: Initialize the classifier\n",
    "clf = KNeighborsClassifier()\n",
    "\n",
    "# TODO: Perform grid search on the classifier using the \"f1\" as the scoring method\n",
    "grid_obj = None\n",
    "\n",
    "# TODO: Fit the grid search object on the training data and find the optimal parameters\n",
    "\n",
    "grid_obj = GridSearchCV(clf, param_grid=parameters, scoring=\"f1\")\n",
    "grid_obj.fit(X_train, y_train)\n",
    "\n",
    "# TODO: Get the best estimator\n",
    "\n",
    "best_clf = grid_obj.best_estimator_\n",
    "\n",
    "# TODO: Report the final F1 score for training and testing after parameter tuning\n",
    "\n",
    "print(f\"Best Parameters: {grid_obj.best_params_}\")\n",
    "print(f\"Best F1 Score: {grid_obj.best_score_}\")\n",
    "train_predict(best_clf, X_train, y_train, X_test, y_test)"
   ]
  },
  {
   "cell_type": "markdown",
   "metadata": {},
   "source": [
    "##### **[Questions]**\n",
    "\n",
    "- What is the final model's F<sub>1</sub> score for training and testing? How does that score compare to the untuned model?\n"
   ]
  },
  {
   "cell_type": "markdown",
   "metadata": {},
   "source": [
    "##### **[Further Work]**\n",
    "\n",
    "This notebook considers a gentle introduction to a standard end-to-end machine learning pipeline. In real-world domains, you might face more complex challenges (*more features and patterns, more complex data issues, decentralized data sources, and so on*). There are many other experiments you might want to do with this data, such as:\n",
    "\n",
    "* Considering the original [Hepatocellular Carcinoma Dataset](https://www.kaggle.com/datasets/mrsantos/hcc-dataset). How would your approach need to change?\n",
    "* Considering using a custom split of the data, using a different number of training points each time (e.g., 25% versus 75% of points for training). How would the performance results vary?\n",
    "* Experiment with distinct missing data imputation strategies and/or imbalanced data strategies? Which one(s) yield(s) the best results?\n",
    "* You've also been doing a lot of scattered scripts/code cells! Can you refactor your code to automate the process in a clear and clean way?\n",
    "* What kind of other experiments can you think of? How can data science/machine learning techniques further support the exploration of this dataset?\n"
   ]
  },
  {
   "cell_type": "markdown",
   "metadata": {},
   "source": [
    "## **Bibliography**"
   ]
  },
  {
   "cell_type": "markdown",
   "metadata": {},
   "source": [
    "- [Using pandas and Python to Explore Your Dataset](https://realpython.com/pandas-python-explore-dataset/) by Reka Horvath in The Real Python (*try to open it in a Private Browser, if a blocking window appears*).\n",
    "- [scikit-learn.org: Machine Learning in Python](https://scikit-learn.org/stable/)\n",
    "- [10 Free Machine Learning Books for 2025](https://www.kdnuggets.com/10-free-machine-learning-books-for-2025), KDNuggets\n",
    "- [Python Data Science Handbook](https://jakevdp.github.io/PythonDataScienceHandbook/): Online Book\n",
    "- [Machine Learning Pocket Reference](https://github.com/mattharrison/ml_pocket_reference): Source code to complement the book available on Moodle"
   ]
  }
 ],
 "metadata": {
  "kernelspec": {
   "display_name": "DS",
   "language": "python",
   "name": "python3"
  },
  "language_info": {
   "codemirror_mode": {
    "name": "ipython",
    "version": 3
   },
   "file_extension": ".py",
   "mimetype": "text/x-python",
   "name": "python",
   "nbconvert_exporter": "python",
   "pygments_lexer": "ipython3",
   "version": "3.12.9"
  }
 },
 "nbformat": 4,
 "nbformat_minor": 0
}
